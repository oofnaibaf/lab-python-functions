{
 "cells": [
  {
   "cell_type": "markdown",
   "id": "25d7736c-ba17-4aff-b6bb-66eba20fbf4e",
   "metadata": {},
   "source": [
    "# Lab | Functions"
   ]
  },
  {
   "cell_type": "markdown",
   "id": "0c581062-8967-4d93-b06e-62833222f930",
   "metadata": {
    "tags": []
   },
   "source": [
    "## Exercise: Managing Customer Orders with Functions\n",
    "\n",
    "In the previous exercise, you improved the code for managing customer orders by using loops and flow control. Now, let's take it a step further and refactor the code by introducing functions.\n",
    "\n",
    "Follow the steps below to complete the exercise:\n",
    "\n",
    "1. Define a function named `initialize_inventory` that takes `products` as a parameter. Inside the function, implement the code for initializing the inventory dictionary using a loop and user input.\n",
    "\n",
    "2. Define a function named `get_customer_orders` that takes no parameters. Inside the function, implement the code for prompting the user to enter the product names using a loop. The function should return the `customer_orders` set.\n",
    "\n",
    "3. Define a function named `update_inventory` that takes `customer_orders` and `inventory` as parameters. Inside the function, implement the code for updating the inventory dictionary based on the customer orders.\n",
    "\n",
    "4. Define a function named `calculate_order_statistics` that takes `customer_orders` and `products` as parameters. Inside the function, implement the code for calculating the order statistics (total products ordered, and percentage of unique products ordered). The function should return these values.\n",
    "\n",
    "5. Define a function named `print_order_statistics` that takes `order_statistics` as a parameter. Inside the function, implement the code for printing the order statistics.\n",
    "\n",
    "6. Define a function named `print_updated_inventory` that takes `inventory` as a parameter. Inside the function, implement the code for printing the updated inventory.\n",
    "\n",
    "7. Call the functions in the appropriate sequence to execute the program and manage customer orders.\n",
    "\n",
    "Hints for functions:\n",
    "\n",
    "- Consider the input parameters required for each function and their return values.\n",
    "- Utilize function parameters and return values to transfer data between functions.\n",
    "- Test your functions individually to ensure they work correctly.\n",
    "\n",
    "\n"
   ]
  },
  {
   "cell_type": "code",
   "execution_count": 7,
   "id": "3989b7ea-e4c7-4126-9ef8-e1b53dbdd91e",
   "metadata": {},
   "outputs": [
    {
     "name": "stdin",
     "output_type": "stream",
     "text": [
      "Enter the quantity for Apple:  5\n",
      "Enter the quantity for Banana:  5\n",
      "Enter the quantity for Orange:  5\n",
      "Enter the quantity for Grapes:  5\n",
      "Enter the product name to order (or type 'done' to finish):  done\n"
     ]
    },
    {
     "name": "stdout",
     "output_type": "stream",
     "text": [
      "Total products ordered: 0\n",
      "Percentage of unique products ordered: 0.00%\n",
      "Updated Inventory:\n",
      "Apple: 5\n",
      "Banana: 5\n",
      "Orange: 5\n",
      "Grapes: 5\n"
     ]
    }
   ],
   "source": [
    "#ALL INVENTORY FUNCTIONS START \n",
    "#Initializes inventory dictionary based on user input. \n",
    "def init_inventory(products):\n",
    "    inventory = {}\n",
    "    for product in products:\n",
    "        quantity = int(input(f\"Enter the quantity for {product}: \"))\n",
    "        inventory[product] = quantity\n",
    "    return inventory\n",
    "\n",
    "#Prints the updated inventory.\n",
    "def print_updated_inventory(inventory):   \n",
    "    print(\"Updated Inventory:\")\n",
    "    for product, quantity in inventory.items():\n",
    "        print(f\"{product}: {quantity}\")\n",
    "\n",
    "#Updates the inventory dictionary based on customer orders.\n",
    "def update_inventory(customer_orders, inventory):\n",
    "    for order in customer_orders:\n",
    "        if order in inventory:\n",
    "            inventory[order] -= 1  # Reduce the inventory by 1 for each order\n",
    "            if inventory[order] < 0:\n",
    "                inventory[order] = 0  # Ensure inventory does not go below zero\n",
    "        else:\n",
    "            print(f\"Warning: {order} is not available in inventory.\")\n",
    "\n",
    "#ALL INVENTORY FUNCTIONS END\n",
    "\n",
    "#ALL Customer FUNCTIONS START\n",
    "#Prompts the user to enter product names and returns a set of customer orders.\n",
    "def get_cust_orders():\n",
    "    customer_orders = set()\n",
    "    while True:\n",
    "        product_name = input(\"Enter the product name to order (or type 'done' to finish): \")\n",
    "        if product_name.lower() == 'done':\n",
    "            break\n",
    "        customer_orders.add(product_name)\n",
    "    return customer_orders\n",
    "\n",
    "#Calculates order statistics: total products ordered and percentage of unique products ordered.\n",
    "def calc_order_stats(customer_orders, products):\n",
    "    total_products_ordered = len(customer_orders)  # Total unique products ordered\n",
    "    unique_products_ordered = len(set(customer_orders))\n",
    "    percentage_unique = (unique_products_ordered / total_products_ordered * 100) if total_products_ordered > 0 else 0\n",
    "    return total_products_ordered, percentage_unique\n",
    "\n",
    "#Prints the order statistics.\n",
    "def print_order_stats(order_statistics):\n",
    "    total_ordered, percentage_unique = order_statistics\n",
    "    print(f\"Total products ordered: {total_ordered}\")\n",
    "    print(f\"Percentage of unique products ordered: {percentage_unique:.2f}%\")\n",
    "#ALL Customer FUNCTIONS END\n",
    "\n",
    "\n",
    "# Main execution sequence\n",
    "def main():\n",
    "    products = [\"Apple\", \"Banana\", \"Orange\", \"Grapes\"]  # Sample product list\n",
    "    inventory = init_inventory(products)\n",
    "    customer_orders = get_customer_orders()\n",
    "    update_inventory(customer_orders, inventory)\n",
    "    order_statistics = calc_order_stats(customer_orders, products)\n",
    "    print_order_stats(order_statistics)\n",
    "    print_updated_inventory(inventory)\n",
    "\n",
    "# Run the program\n",
    "if __name__ == \"__main__\":\n",
    "    main()"
   ]
  },
  {
   "cell_type": "code",
   "execution_count": null,
   "id": "165e0591-a80c-420a-9c8a-206814de7e1b",
   "metadata": {},
   "outputs": [],
   "source": []
  }
 ],
 "metadata": {
  "kernelspec": {
   "display_name": "Python 3 (ipykernel)",
   "language": "python",
   "name": "python3"
  },
  "language_info": {
   "codemirror_mode": {
    "name": "ipython",
    "version": 3
   },
   "file_extension": ".py",
   "mimetype": "text/x-python",
   "name": "python",
   "nbconvert_exporter": "python",
   "pygments_lexer": "ipython3",
   "version": "3.12.4"
  }
 },
 "nbformat": 4,
 "nbformat_minor": 5
}
